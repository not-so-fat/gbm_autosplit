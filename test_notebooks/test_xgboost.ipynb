{
 "cells": [
  {
   "cell_type": "code",
   "execution_count": null,
   "id": "fc17f13e",
   "metadata": {},
   "outputs": [],
   "source": [
    "%run ../tests/utils.py"
   ]
  },
  {
   "cell_type": "code",
   "execution_count": null,
   "id": "78cd1616",
   "metadata": {},
   "outputs": [],
   "source": [
    "from sklearn.metrics import (\n",
    "    log_loss,\n",
    "    mean_absolute_error\n",
    ")\n",
    "from gbm_autosplit import (\n",
    "    XGBClassifier,\n",
    "    XGBRegressor\n",
    ")"
   ]
  },
  {
   "cell_type": "markdown",
   "id": "12125fc6",
   "metadata": {},
   "source": [
    "# Classification with different metric"
   ]
  },
  {
   "cell_type": "code",
   "execution_count": null,
   "id": "e2f9f72c",
   "metadata": {},
   "outputs": [],
   "source": [
    "x, y = get_xy(100, True)"
   ]
  },
  {
   "cell_type": "code",
   "execution_count": null,
   "id": "0e8e9cc2",
   "metadata": {},
   "outputs": [],
   "source": [
    "learner = XGBClassifier(max_n_estimators = 500, early_stopping_rounds=10, eval_metric=log_loss)"
   ]
  },
  {
   "cell_type": "code",
   "execution_count": null,
   "id": "ddb15c1d",
   "metadata": {},
   "outputs": [],
   "source": [
    "learner.fit(x, y)"
   ]
  },
  {
   "cell_type": "code",
   "execution_count": null,
   "id": "9b3b48e5",
   "metadata": {},
   "outputs": [],
   "source": [
    "learner.n_estimators"
   ]
  },
  {
   "cell_type": "markdown",
   "id": "e0acb3f5",
   "metadata": {},
   "source": [
    "# Regression with different metric"
   ]
  },
  {
   "cell_type": "code",
   "execution_count": null,
   "id": "42dad292",
   "metadata": {},
   "outputs": [],
   "source": [
    "x, y = get_xy(100, False)"
   ]
  },
  {
   "cell_type": "code",
   "execution_count": null,
   "id": "72a60585",
   "metadata": {},
   "outputs": [],
   "source": [
    "learner = XGBRegressor(max_n_estimators = 500, early_stopping_rounds=10, eval_metric=mean_absolute_error)"
   ]
  },
  {
   "cell_type": "code",
   "execution_count": null,
   "id": "0b91ef1b",
   "metadata": {},
   "outputs": [],
   "source": [
    "learner.fit(x, y)"
   ]
  },
  {
   "cell_type": "code",
   "execution_count": null,
   "id": "61ecb906",
   "metadata": {},
   "outputs": [],
   "source": [
    "learner.n_estimators"
   ]
  },
  {
   "cell_type": "code",
   "execution_count": null,
   "id": "78c3ff87",
   "metadata": {},
   "outputs": [],
   "source": []
  }
 ],
 "metadata": {
  "kernelspec": {
   "display_name": "Python 3 (ipykernel)",
   "language": "python",
   "name": "python3"
  },
  "language_info": {
   "codemirror_mode": {
    "name": "ipython",
    "version": 3
   },
   "file_extension": ".py",
   "mimetype": "text/x-python",
   "name": "python",
   "nbconvert_exporter": "python",
   "pygments_lexer": "ipython3",
   "version": "3.8.5"
  }
 },
 "nbformat": 4,
 "nbformat_minor": 5
}
